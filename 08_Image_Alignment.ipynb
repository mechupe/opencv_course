{
  "cells": [
    {
      "cell_type": "markdown",
      "metadata": {
        "id": "OWy8YzGWe7i3"
      },
      "source": [
        "# Image Alignment\n",
        "**Satya Mallick, LearnOpenCV.com**"
      ]
    },
    {
      "cell_type": "markdown",
      "metadata": {
        "id": "ChZyMWGje7i8"
      },
      "source": [
        "## Align an image to a template.\n",
        "![alt text](https://learnopencv.com/wp-content/uploads/2023/03/opencv_bootcamp_08_image-alignment-using-opencv.jpg \"Image Alignment\")"
      ]
    },
    {
      "cell_type": "markdown",
      "metadata": {
        "id": "wfHrbuVQe7i9"
      },
      "source": [
        "## Theory\n",
        "\n",
        "1. A **Homography** transforms a square to arbitrary quad.\n",
        "\n",
        "![alt text](https://learnopencv.com/wp-content/uploads/2023/03/opencv_bootcamp_08_motion-models.jpg \"Motion Models\")"
      ]
    },
    {
      "cell_type": "markdown",
      "metadata": {
        "id": "noD90WHBe7i9"
      },
      "source": [
        "## Theory\n",
        "\n",
        "2. Images of two planes are related by a **Homography**\n",
        "3. We need **4 corresponding points** to estimate Homography\n",
        "\n",
        "\n",
        "![\"Homography Example\"](https://learnopencv.com/wp-content/uploads/2023/03/opencv_bootcamp_08_homography-example.jpg)"
      ]
    },
    {
      "cell_type": "code",
      "execution_count": null,
      "metadata": {
        "ExecuteTime": {
          "end_time": "2023-03-29T19:29:03.254720Z",
          "start_time": "2023-03-29T19:29:02.646699Z"
        },
        "id": "ufz84TN5e7i-"
      },
      "outputs": [],
      "source": [
        "# Imports\n",
        "import os\n",
        "import cv2\n",
        "import numpy as np\n",
        "import matplotlib.pyplot as plt\n",
        "\n",
        "from zipfile import ZipFile\n",
        "from urllib.request import urlretrieve\n",
        "\n",
        "%matplotlib inline"
      ]
    },
    {
      "cell_type": "markdown",
      "metadata": {
        "id": "JwSEDmmAe7jA"
      },
      "source": [
        "##  <font style=\"color:white\">Download Assets</font>"
      ]
    },
    {
      "cell_type": "code",
      "execution_count": null,
      "metadata": {
        "ExecuteTime": {
          "end_time": "2023-03-29T19:29:03.270720Z",
          "start_time": "2023-03-29T19:29:03.257701Z"
        },
        "id": "UTt_G7mse7jA"
      },
      "outputs": [],
      "source": [
        "def download_and_unzip(url, save_path):\n",
        "    print(f\"Downloading and extracting assests....\", end=\"\")\n",
        "\n",
        "    # Downloading zip file using urllib package.\n",
        "    urlretrieve(url, save_path)\n",
        "\n",
        "    try:\n",
        "        # Extracting zip file using the zipfile package.\n",
        "        with ZipFile(save_path) as z:\n",
        "            # Extract ZIP file contents in the same directory.\n",
        "            z.extractall(os.path.split(save_path)[0])\n",
        "\n",
        "        print(\"Done\")\n",
        "\n",
        "    except Exception as e:\n",
        "        print(\"\\nInvalid file.\", e)"
      ]
    },
    {
      "cell_type": "code",
      "execution_count": null,
      "metadata": {
        "ExecuteTime": {
          "end_time": "2023-03-29T19:29:21.231865Z",
          "start_time": "2023-03-29T19:29:03.274705Z"
        },
        "id": "4AEC_kyke7jB",
        "outputId": "875ece61-43ba-4a92-be08-c3c782a4880f"
      },
      "outputs": [],
      "source": [
        "URL = r\"https://www.dropbox.com/s/zuwnn6rqe0f4zgh/opencv_bootcamp_assets_NB8.zip?dl=1\"\n",
        "\n",
        "asset_zip_path = os.path.join(os.getcwd(), \"opencv_bootcamp_assets_NB8.zip\")\n",
        "\n",
        "# Download if assest ZIP does not exists.\n",
        "if not os.path.exists(asset_zip_path):\n",
        "    download_and_unzip(URL, asset_zip_path)"
      ]
    },
    {
      "cell_type": "markdown",
      "metadata": {
        "id": "49AveSmhe7jD"
      },
      "source": [
        "## Step 1: Read Tempalate and Scanned Image"
      ]
    },
    {
      "cell_type": "code",
      "execution_count": null,
      "metadata": {
        "ExecuteTime": {
          "end_time": "2023-03-29T19:29:21.295219Z",
          "start_time": "2023-03-29T19:29:21.233877Z"
        },
        "id": "ZoE9v1mze7jE",
        "outputId": "3b08f08f-4461-4aa1-f28c-3643c9edad6f"
      },
      "outputs": [],
      "source": [
        "# Read reference image\n",
        "refFilename = \"data/book_orig.jpg\"\n",
        "print(\"Reading reference image:\", refFilename)\n",
        "im1 = cv2.imread(refFilename, cv2.IMREAD_COLOR)\n",
        "im1 = cv2.cvtColor(im1, cv2.COLOR_BGR2RGB)\n",
        "\n",
        "# Read image to be aligned\n",
        "imFilename = \"data/book_homog_bad.jpg\"\n",
        "print(\"Reading image to align:\", imFilename)\n",
        "im2 = cv2.imread(imFilename, cv2.IMREAD_COLOR)\n",
        "im2 = cv2.cvtColor(im2, cv2.COLOR_BGR2RGB)"
      ]
    },
    {
      "cell_type": "code",
      "execution_count": null,
      "metadata": {
        "ExecuteTime": {
          "end_time": "2023-03-29T19:29:22.098217Z",
          "start_time": "2023-03-29T19:29:21.297221Z"
        },
        "id": "nHr_Fvhee7jG",
        "outputId": "e82b2162-81dc-4b15-ad5b-b386f6bb29ca",
        "scrolled": false
      },
      "outputs": [],
      "source": [
        "# Display Images\n",
        "\n",
        "plt.figure(figsize=[20, 10]);\n",
        "plt.subplot(121); plt.axis('off'); plt.imshow(im1); plt.title(\"Original Form\")\n",
        "plt.subplot(122); plt.axis('off'); plt.imshow(im2); plt.title(\"Scanned Form\")"
      ]
    },
    {
      "cell_type": "markdown",
      "metadata": {
        "id": "d57WgOJye7jH"
      },
      "source": [
        "## Step 2: Find keypoints in both Images\n",
        "\n",
        "Think of keypoints as corner points that are stable under image transformations"
      ]
    },
    {
      "cell_type": "code",
      "execution_count": null,
      "metadata": {
        "ExecuteTime": {
          "end_time": "2023-03-29T19:29:23.378325Z",
          "start_time": "2023-03-29T19:29:22.101220Z"
        },
        "id": "O-_hrA4Je7jH"
      },
      "outputs": [],
      "source": [
        "# Convert images to grayscale\n",
        "im1_gray = cv2.cvtColor(im1, cv2.COLOR_BGR2GRAY)\n",
        "im2_gray = cv2.cvtColor(im2, cv2.COLOR_BGR2GRAY)\n",
        "\n",
        "\n",
        "# Detect ORB features and compute descriptors.\n",
        "MAX_NUM_FEATURES = 5000\n",
        "orb = cv2.ORB_create(MAX_NUM_FEATURES)\n",
        "keypoints1, descriptors1 = orb.detectAndCompute(im1_gray, None)\n",
        "keypoints2, descriptors2 = orb.detectAndCompute(im2_gray, None)\n",
        "\n",
        "# Display\n",
        "im1_display = cv2.drawKeypoints(im1, keypoints1, outImage=np.array([]),\n",
        "                                color=(255, 0, 0), flags=cv2.DRAW_MATCHES_FLAGS_DRAW_RICH_KEYPOINTS)\n",
        "\n",
        "im2_display = cv2.drawKeypoints(im2, keypoints2, outImage=np.array([]),\n",
        "                                color=(255, 0, 0), flags=cv2.DRAW_MATCHES_FLAGS_DRAW_RICH_KEYPOINTS)"
      ]
    },
    {
      "cell_type": "code",
      "execution_count": null,
      "metadata": {
        "ExecuteTime": {
          "end_time": "2023-03-29T19:29:24.168317Z",
          "start_time": "2023-03-29T19:29:23.381307Z"
        },
        "id": "yoUbPjkte7jI",
        "outputId": "cb76fc34-dd13-47c7-e965-408f553bf6cb"
      },
      "outputs": [],
      "source": [
        "plt.figure(figsize=[20,10])\n",
        "plt.subplot(121); plt.axis('off'); plt.imshow(im1_display); plt.title(\"Original Form\");\n",
        "plt.subplot(122); plt.axis('off'); plt.imshow(im2_display); plt.title(\"Scanned Form\");"
      ]
    },
    {
      "cell_type": "markdown",
      "metadata": {
        "id": "zZAJaZX1e7jI"
      },
      "source": [
        "## Step 3 : Match keypoints in the two image"
      ]
    },
    {
      "cell_type": "code",
      "execution_count": null,
      "metadata": {
        "ExecuteTime": {
          "end_time": "2023-03-29T19:29:24.184295Z",
          "start_time": "2023-03-29T19:29:24.171306Z"
        },
        "id": "V7WOd9lRe7jI"
      },
      "outputs": [],
      "source": [
        "# Match features.\n",
        "matcher = cv2.DescriptorMatcher_create(cv2.DESCRIPTOR_MATCHER_BRUTEFORCE_HAMMING)\n",
        "\n",
        "# Converting to list for sorting as tuples are immutable objects.\n",
        "matches = list(matcher.match(descriptors1, descriptors2, None))\n",
        "# Sort matches by score\n",
        "matches.sort(key=lambda x: x.distance, reverse=False)\n",
        "\n",
        "# Remove not so good matches\n",
        "numGoodMatches = int(len(matches) * 0.1)\n",
        "matches = matches[:numGoodMatches]"
      ]
    },
    {
      "cell_type": "code",
      "execution_count": null,
      "metadata": {
        "ExecuteTime": {
          "end_time": "2023-03-29T19:29:24.924293Z",
          "start_time": "2023-03-29T19:29:24.189306Z"
        },
        "id": "OOcdfybue7jJ",
        "outputId": "09aa1359-9adf-4be0-a9bf-c45a61be9b87"
      },
      "outputs": [],
      "source": [
        "# Draw top matches\n",
        "im_matches = cv2.drawMatches(im1, keypoints1, im2, keypoints2, matches, None)\n",
        "\n",
        "plt.figure(figsize=[40, 10])\n",
        "plt.imshow(im_matches);plt.axis(\"off\");plt.title(\"Original Form\")"
      ]
    },
    {
      "cell_type": "markdown",
      "metadata": {
        "id": "5oWXLXQre7jJ"
      },
      "source": [
        "## Step 4:  Find Homography\n",
        "\n"
      ]
    },
    {
      "cell_type": "code",
      "execution_count": null,
      "metadata": {
        "ExecuteTime": {
          "end_time": "2023-03-29T19:29:24.940298Z",
          "start_time": "2023-03-29T19:29:24.927296Z"
        },
        "id": "qf-s-4uJe7jK"
      },
      "outputs": [],
      "source": [
        "# Extract location of good matches\n",
        "points1 = np.zeros((len(matches), 2), dtype=np.float32)\n",
        "points2 = np.zeros((len(matches), 2), dtype=np.float32)\n",
        "\n",
        "for i, match in enumerate(matches):\n",
        "    points1[i, :] = keypoints1[match.queryIdx].pt\n",
        "    points2[i, :] = keypoints2[match.trainIdx].pt\n",
        "\n",
        "# Find homography\n",
        "h, mask = cv2.findHomography(points2, points1, cv2.RANSAC)"
      ]
    },
    {
      "cell_type": "markdown",
      "metadata": {
        "id": "qy6J__zRe7jK"
      },
      "source": [
        "## Step 5: Warp image"
      ]
    },
    {
      "cell_type": "code",
      "execution_count": null,
      "metadata": {
        "ExecuteTime": {
          "end_time": "2023-03-29T19:29:25.747314Z",
          "start_time": "2023-03-29T19:29:24.943296Z"
        },
        "id": "Pu5DoNjPe7jK",
        "outputId": "d446b09f-9f28-4507-ac8f-b363dfa3ddaf",
        "scrolled": false
      },
      "outputs": [],
      "source": [
        "# Use homography to warp image\n",
        "height, width, channels = im1.shape\n",
        "im2_reg = cv2.warpPerspective(im2, h, (width, height))\n",
        "\n",
        "# Display results\n",
        "plt.figure(figsize=[20, 10])\n",
        "plt.subplot(121);plt.imshow(im1);    plt.axis(\"off\");plt.title(\"Original Form\")\n",
        "plt.subplot(122);plt.imshow(im2_reg);plt.axis(\"off\");plt.title(\"Scanned Form\")"
      ]
    },
    {
      "cell_type": "code",
      "execution_count": null,
      "metadata": {},
      "outputs": [],
      "source": []
    }
  ],
  "metadata": {
    "celltoolbar": "Slideshow",
    "colab": {
      "provenance": []
    },
    "kernelspec": {
      "display_name": "Python 3 (ipykernel)",
      "language": "python",
      "name": "python3"
    },
    "language_info": {
      "codemirror_mode": {
        "name": "ipython",
        "version": 3
      },
      "file_extension": ".py",
      "mimetype": "text/x-python",
      "name": "python",
      "nbconvert_exporter": "python",
      "pygments_lexer": "ipython3",
      "version": "3.9.6"
    },
    "toc": {
      "base_numbering": 1,
      "nav_menu": {},
      "number_sections": false,
      "sideBar": true,
      "skip_h1_title": false,
      "title_cell": "Table of Contents",
      "title_sidebar": "Contents",
      "toc_cell": false,
      "toc_position": {
        "height": "calc(100% - 180px)",
        "left": "10px",
        "top": "150px",
        "width": "160px"
      },
      "toc_section_display": true,
      "toc_window_display": false
    },
    "varInspector": {
      "cols": {
        "lenName": 16,
        "lenType": 16,
        "lenVar": 40
      },
      "kernels_config": {
        "python": {
          "delete_cmd_postfix": "",
          "delete_cmd_prefix": "del ",
          "library": "var_list.py",
          "varRefreshCmd": "print(var_dic_list())"
        },
        "r": {
          "delete_cmd_postfix": ") ",
          "delete_cmd_prefix": "rm(",
          "library": "var_list.r",
          "varRefreshCmd": "cat(var_dic_list()) "
        }
      },
      "types_to_exclude": [
        "module",
        "function",
        "builtin_function_or_method",
        "instance",
        "_Feature"
      ],
      "window_display": false
    }
  },
  "nbformat": 4,
  "nbformat_minor": 0
}
